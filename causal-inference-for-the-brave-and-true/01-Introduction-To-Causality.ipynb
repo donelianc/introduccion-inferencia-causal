{
 "cells": [
  {
   "cell_type": "markdown",
   "metadata": {},
   "source": [
    "# 01 - Introducción A La Causalidad\n",
    "\n",
    "\n",
    "## ¿Por Qué Molestarse En Aprender Sobre La Causalidad?\n",
    "\n",
    "En primer lugar, es posible que te preguntes: ¿qué gano yo? Esto es lo que hay:\n",
    "\n",
    "## La Ciencia de Datos No Es lo Que Solía Ser (o Finalmente Lo Es)\n",
    "\n",
    "El científico de datos ha sido etiquetado como [el trabajo más sexy del siglo XXI](https://hbr.org/2012/10/data-scientist-the-sexiest-job-of-the-21st-century) por _Harvard Business Review_. Esta no fue una declaración vacía. Desde hace una década, el científico de datos ha estado en el centro de la atención. Los expertos en Inteligencia Artificial tenían [salarios que rivalizaban con los de las superestrellas del deporte](https://www.economist.com/business/2016/04/02/million-dollar-babies). En la búsqueda de fama y fortuna, cientos de jóvenes profesionales se adentraron en lo que parecía una frenética carrera dorada por el título de _Científico de Datos_ lo antes posible. Industrias completamente nuevas surgieron en torno a la exageración. Los métodos de enseñanza milagrosos podrían convertirte en un científico de datos sin necesidad de que revisaras una sola fórmula matemática. Los especialistas en consultoría prometieron millones si su empresa podía desbloquear el potencial de los datos. Inteligencia Artificial o Aprendizaje Automático, ha sido llamado la nueva electricidad y los datos, el nuevo petróleo.\n",
    "\n",
    "Mientras tanto, nos olvidamos de aquellos que  todo el tiempo han estado haciendo ciencia \"a la antigua\" con datos. Durante todo este tiempo, los economistas estaban tratando de responder cuál es el verdadero impacto de la educación en los ingresos de una persona, las bioestadísticas estaban tratando de entender si las grasas saturadas conducían a una mayor probabilidad de sufrir un ataque al corazón y las psicólogas estaban tratando de entender si las palabras de afirmación conducían de hecho a una matrimonio más feliz. Si fuéramos completamente honestos, la _Ciencia de Datos_ no es un campo reciente. Simplemente somos conscientes de ello en este momento debido a la gran cantidad de marketing gratuito que han proporcionado los medios.\n",
    "\n",
    "Usando una analogía de Jim Collins, piensa en servirte una taza helada de tu cerveza favorita. Si haces esto de la manera correcta, la mayor parte del vaso será cerveza, pero habrá una capa de espuma de 1 dedo de espesor en la parte superior. Esta taza es como la _Ciencia de Datos_. \n",
    "\n",
    "1. La cerveza. Los fundamentos estadísticos, la curiosidad científica, la pasión por los problemas difíciles. Todo esto resultó muy valioso a lo largo de cientos de años.\n",
    "2. La espuma. Las cosas \"espumosas\" construidas sobre expectativas poco realistas que eventualmente desaparecerán. \n",
    "\n",
    "Esta espuma podría caer más rápido de lo que piensas. Como dice _The Economist_\n",
    "\n",
    "> Los mismos consultores que predicen que la _Inteligencia Artificial_ tendrá un impacto que cambiará el mundo, también informan que a los gerentes en empresas reales les resultará difícil implementar la _Inteligencia Artificial_ y que el entusiasmo por ella se está enfriando. Svetlana Sicular de Gartner, una empresa de investigación, dice que 2020 podría ser el año en que la _Inteligencia Artificial_ caiga en la pendiente descendente del tan publicitado \"ciclo de exageración\" de su empresa. Los inversores están comenzando a despertarse para subirse al tren: una encuesta de empresas emergentes europeas de _Inteligencia Artificial_ realizada por MMC, un fondo de capital de riesgo, encontró que el 40 % no parecía estar usando ninguna _Inteligencia Artificial_ en absoluto.\n",
    "\n",
    "En medio de toda esta locura, ¿qué deberíamos hacer nosotros, como científicos de datos, o mejor aún, como \"simplemente\" científicos? Para empezar, si eres inteligente, aprenderás a ignorar la espuma. Estamos en esto por la cerveza. Las Matemáticas y la Estadística han sido útiles desde siempre y es poco probable que se detengan ahora. En segundo lugar, aprende qué hace que tu trabajo sea valioso y útil, no la última herramienta brillante que nadie supo cómo usar. \n",
    "\n",
    "Por último, pero no menos importante, recuerda que no hay atajos. Los conocimientos en Matemáticas y Estadística son valiosos precisamente porque son difíciles de adquirir. Si todo el mundo pudiera hacerlo, el exceso de oferta haría bajar su precio. ¡Así que **fortalece** (_toughen up_)! Apréndalos lo mejor que puedas. Y diablos, ¿por qué no? diviértete en el camino mientras nos embarcamos en esta búsqueda solo **para valientes y verdaderos**.\n",
    "\n",
    "![img](./data/img/intro/tougher-up-cupcake1.jpg)\n",
    "\n",
    "## Respondiendo A Un Tipo Diferente De Pregunta\n",
    "\n",
    "Actualmente, el tipo de pregunta que el Aprendizaje Automático (_Machine Learning_) es muy bueno para responder es del tipo de predicción. Como lo expresan Ajay Agrawal, Joshua Gans y Avi Goldfarb en el libro _Prediction Machines_, \"la nueva ola de _Inteligencia Artificial_ en realidad no nos brinda inteligencia, sino un componente crítico de la inteligencia: la predicción\". Podemos hacer todo tipo de cosas maravillosas con el Aprendizaje Automático. El único requisito es que enmarquemos nuestros problemas en forma de predicción. ¿Quieres traducir del inglés al portugués? Entonces, crea un modelo de aprendizaje automático que prediga oraciones en portugués cuando se le den oraciones en inglés. ¿Quieres reconocer caras? A continuación, crea un modelo de aprendizaje automático que prediga la presencia de un rostro en una subsección de una imagen. ¿Quieres construir un coche autónomo? Construye un modelo de Aprendizaje Automático para predecir la dirección de la rueda y la presión sobre los frenos y el acelerador cuando se le presenten imágenes y sensores del entorno de un automóvil.\n",
    "\n",
    "Sin embargo, el Aprendizaje Automático (_Machine Learning_) no es una panacea. Puede hacer maravillas bajo límites muy estrictos y fallar miserablemente si los datos que usas se desvían un poco de lo que el modelo está acostumbrado. Para dar otro ejemplo del libro _Prediction Machines_, \"en muchas industrias, los precios bajos están asociados con ventas bajas. Por ejemplo, en la industria hotelera, los precios son bajos fuera de la temporada turística y los precios son altos cuando la demanda es más alta y los hoteles están llenos. Dados esos datos, una predicción ingenua podría sugerir que aumentar el precio llevaría a vender más habitaciones”. \n",
    "\n",
    "ML is notoriously bad at this inverse causality type of problem. They require us to answer \"what if\" questions, which economists call counterfactuals. What would happen if I used another price instead of this price I'm currently asking for my merchandise? What would happen if I do a low sugar one instead of this low-fat diet I'm in? If you work in a bank, giving credit, you will have to figure out how changing the customer line changes your revenue. Or, if you work in the local government, you might be asked to figure out how to make the schooling system better. Should you give tablets to every kid because the era of digital knowledge tells you to? Or should you build an old-fashioned library? \n",
    "\n",
    "En el centro de estas preguntas hay una indagación causal cuya respuesta deseamos conocer. Las preguntas causales impregnan los problemas cotidianos, averiguar cómo aumentar las ventas, pero también juegan un papel importante en los dilemas que son muy personales y queridos para nosotros: ¿tengo que ir a una escuela costosa para tener éxito en la vida (educación causa altos ingresos)? ¿La inmigración reduce mis posibilidades de conseguir un trabajo (la inmigración hace que aumente el desempleo)? ¿La transferencia de dinero a los pobres reduce la tasa de criminalidad? No importa el campo en el que te encuentres, es muy probable que hayas tenido o tengas que responder algún tipo de pregunta causal. Desafortunadamente para el Aprendizaje Automático, no podemos confiar en las predicciones de tipo \"correlación\" para abordarlas.\n",
    "\n",
    "Responder a este tipo de preguntas es más difícil de lo que la mayoría de la gente cree. Seguro que tus padres te han repetido que \"asociación no es causalidad\". Pero en realidad explicar por qué es el caso es un poco más complicado. De esto se trata esta introducción a la _Inferencia Causal_. En cuanto al resto de este libro, estará dedicado a **descubrir cómo hacer que la asociación sea causalidad**.\n",
    "\n",
    "## Cuándo La Asociación Es Causalidad\n",
    "\n",
    "Intuitively, we kind of know why the association is not causation. If someone tells you that schools that give tablets to their students perform better than those that don’t, you can quickly point out that it is probably the case that those schools with the tablets are wealthier. As such, they would do better than average even without the tablets. Because of this, we can’t conclude that giving tablets to kids during classes will cause an increase in their academic performance. We can only say that tablets in school are associated with high academic performance, as measured by ENEM (sort of the SAT in Brazil, which stands for National High School Exam):"
   ]
  },
  {
   "cell_type": "code",
   "execution_count": 3,
   "metadata": {
    "ExecuteTime": {
     "end_time": "2023-03-15T11:20:11.358578Z",
     "start_time": "2023-03-15T11:20:09.259840Z"
    },
    "jupyter": {
     "outputs_hidden": true
    },
    "tags": [
     "hide-input"
    ]
   },
   "outputs": [],
   "source": [
    "import pandas as pd\n",
    "import numpy as np\n",
    "from scipy.special import expit\n",
    "import seaborn as sns\n",
    "from matplotlib import pyplot as plt\n",
    "from matplotlib import style\n",
    "\n",
    "style.use(\"fivethirtyeight\")\n",
    "\n",
    "np.random.seed(123)\n",
    "n = 100\n",
    "tuition = np.random.normal(1000, 300, n).round()\n",
    "tablet = np.random.binomial(1, expit((tuition - tuition.mean()) / tuition.std())).astype(bool)\n",
    "enem_score = np.random.normal(200 - 50 * tablet + 0.7 * tuition, 200)\n",
    "enem_score = (enem_score - enem_score.min()) / enem_score.max()\n",
    "enem_score *= 1000\n",
    "\n",
    "data = pd.DataFrame(dict(enem_score=enem_score, Tuition=tuition, Tablet=tablet))"
   ]
  },
  {
   "cell_type": "code",
   "execution_count": 4,
   "metadata": {
    "ExecuteTime": {
     "end_time": "2023-03-15T11:20:11.468751Z",
     "start_time": "2023-03-15T11:20:11.360175Z"
    },
    "tags": [
     "hide-input"
    ]
   },
   "outputs": [
    {
     "data": {
      "image/png": "[encoded data removed]",
      "text/plain": [
       "<Figure size 432x576 with 1 Axes>"
      ]
     },
     "metadata": {
      "needs_background": "light"
     },
     "output_type": "display_data"
    }
   ],
   "source": [
    "plt.figure(figsize=(6,8))\n",
    "sns.boxplot(y=\"enem_score\", x=\"Tablet\", data=data).set_title('ENEM score by Tablet in Class')\n",
    "plt.show()"
   ]
  },
  {
   "cell_type": "markdown",
   "metadata": {},
   "source": [
    "Para ir más allá de la simple intuición, primero establezcamos alguna notación. Este será nuestro lenguaje común para hablar de causalidad. Piensa en ello como el lenguaje común que usaremos para identificar a otros valientes y verdaderos guerreros causales y que compondrá nuestro grito en las muchas batallas por venir.\n",
    "\n",
    "Llamemos $T_i$ el tratamiento administrado a la unidad i.\n",
    "\n",
    "$\n",
    "T_i=\\begin{cases}\n",
    "1 \\ \\text{si la unidad i recibió el tratamiento}\\\\\n",
    "0 \\ \\text{otro caso}\\\\\n",
    "\\end{cases}\n",
    "$\n",
    "\n",
    "El tratamiento no necesita ser un medicamento ni nada relacionado al campo médico. En cambio, es solo un término que usaremos para denotar alguna intervención para la cual queremos saber su efecto. En nuestro caso, el tratamiento es dar tabletas (electrónicas, no medicinales) a los alumnos. Como nota al margen, a veces puede ver $D$ en lugar de $T$ para indicar el tratamiento.\n",
    "\n",
    "Ahora, vamos a llamar a la variable $Y_i$ el resultado observado para la unidad i.\n",
    "\n",
    "El resultado es nuestra variable de interés. Queremos saber si el tratamiento tiene alguna influencia en el evento a observar. En nuestro ejemplo de las tabletas, sería el rendimiento académico.\n",
    "\n",
    "Aquí es donde las cosas se ponen interesantes. El **problema fundamental de la inferencia causal** es que nunca podemos observar la misma unidad con y sin tratamiento. Es como si tuviéramos dos caminos divergentes y solo pudiéramos saber qué hay delante del que tomamos. Como en el poema de _Robert Frost_:\n",
    "\n",
    ">Two roads diverged in a yellow wood,  \n",
    "And sorry I could not travel both  \n",
    "And be one traveler, long I stood  \n",
    "And looked down one as far as I could  \n",
    "To where it bent in the undergrowth;  \n",
    "\n",
    "_Nota del traductor: Me pareció lo más correcto dejar la cita en inglés._\n",
    "\n",
    "Para entender esto, hablaremos mucho en términos de **resultados potenciales**. Son potenciales porque en realidad no sucedieron. En cambio, denotan **lo que habría sucedido** en el caso de que se tomara algún tratamiento. A veces llamamos factual al resultado potencial que sucedió y contrafactual al que no sucedió.\n",
    "\n",
    "En cuanto a la notación, usamos un subíndice adicional:\n",
    "\n",
    "$Y_{0i}$ es el resultado potencial para la unidad i sin el tratamiento. \n",
    "\n",
    "$Y_{1i}$ es el resultado potencial para **la misma** unidad i con el tratamiento.\n",
    "\n",
    "A veces podrías ver resultados potenciales representados como funciones $Y_i(t)$, así que ten cuidado. $Y_{0i}$ podría ser $Y_i(0)$ y $Y_{1i}$ podría ser $Y_i(1)$. Aquí, usaremos la notación de subíndices la mayor parte del tiempo.\n",
    "\n",
    "![img](./data/img/intro/potential_outcomes.png)\n",
    "\n",
    "De regreso a nuestro ejemplo, $Y_{1i}$ es el rendimiento académico del estudiante i si él o ella están en un salón de clases con tabletas. Si este es el caso o no, no importa para $Y_{1i}$. Es lo mismo. Si el estudiante i obtiene la tableta, podremos observar $Y_{1i}$. Si no, se observará $Y_{0i}$. En este último caso, $Y_{1i}$ está definido, simplemente no podemos verlo. En este caso, es un resultado potencial contrafactual.\n",
    "\n",
    "Con los resultados potenciales, podemos definir el efecto del tratamiento individual:\n",
    "\n",
    " $Y_{1i} - Y_{0i}$\n",
    " \n",
    "Por supuesto, debido al problema fundamental de la inferencia causal, nunca podemos conocer el efecto del tratamiento individual porque solo observamos uno de los posibles resultados. Por el momento, concentrémonos en algo más fácil que estimar el efecto del tratamiento individual. En su lugar, centrémonos en el **efecto promedio del tratamiento**, que se define de la siguiente manera.\n",
    "\n",
    "$ATE = E[Y_1 - Y_0]$\n",
    "\n",
    "donde, `E[...]` es el valor esperado. Otra cantidad más fácil de estimar es el **efecto promedio del tratamiento en los sujetos con tratamiento**:\n",
    "\n",
    "$ATT = E[Y_1 - Y_0 | T=1]$\n",
    "\n",
    "Ahora, sé que no podemos ver ambos resultados potenciales, pero solo por el bien del argumento, supongamos que podríamos. Supongamos que la deidad de la inferencia causal está complacida con las muchas batallas estadísticas que libramos y nos ha recompensado con poderes divinos para ver los posibles resultados alternativos. Con ese poder, digamos que recopilamos datos sobre 4 escuelas. Sabemos si entregaron tabletas a sus alumnos y su calificación en alguna prueba académica anual. Aquí, las tabletas son el tratamiento, entonces $T=1$ si la escuela les da tabletas a sus niños. $Y$ será el puntaje de la prueba."
   ]
  },
  {
   "cell_type": "code",
   "execution_count": 5,
   "metadata": {
    "ExecuteTime": {
     "end_time": "2023-03-15T11:20:11.478665Z",
     "start_time": "2023-03-15T11:20:11.470021Z"
    },
    "tags": [
     "hide-input"
    ]
   },
   "outputs": [
    {
     "data": {
      "text/html": [
       "<div>\n",
       "<style scoped>\n",
       "    .dataframe tbody tr th:only-of-type {\n",
       "        vertical-align: middle;\n",
       "    }\n",
       "\n",
       "    .dataframe tbody tr th {\n",
       "        vertical-align: top;\n",
       "    }\n",
       "\n",
       "    .dataframe thead th {\n",
       "        text-align: right;\n",
       "    }\n",
       "</style>\n",
       "<table border=\"1\" class=\"dataframe\">\n",
       "  <thead>\n",
       "    <tr style=\"text-align: right;\">\n",
       "      <th></th>\n",
       "      <th>i</th>\n",
       "      <th>Y0</th>\n",
       "      <th>Y1</th>\n",
       "      <th>T</th>\n",
       "      <th>Y</th>\n",
       "      <th>TE</th>\n",
       "    </tr>\n",
       "  </thead>\n",
       "  <tbody>\n",
       "    <tr>\n",
       "      <th>0</th>\n",
       "      <td>1</td>\n",
       "      <td>500</td>\n",
       "      <td>450</td>\n",
       "      <td>0</td>\n",
       "      <td>500</td>\n",
       "      <td>-50</td>\n",
       "    </tr>\n",
       "    <tr>\n",
       "      <th>1</th>\n",
       "      <td>2</td>\n",
       "      <td>600</td>\n",
       "      <td>600</td>\n",
       "      <td>0</td>\n",
       "      <td>600</td>\n",
       "      <td>0</td>\n",
       "    </tr>\n",
       "    <tr>\n",
       "      <th>2</th>\n",
       "      <td>3</td>\n",
       "      <td>800</td>\n",
       "      <td>600</td>\n",
       "      <td>1</td>\n",
       "      <td>600</td>\n",
       "      <td>-200</td>\n",
       "    </tr>\n",
       "    <tr>\n",
       "      <th>3</th>\n",
       "      <td>4</td>\n",
       "      <td>700</td>\n",
       "      <td>750</td>\n",
       "      <td>1</td>\n",
       "      <td>750</td>\n",
       "      <td>50</td>\n",
       "    </tr>\n",
       "  </tbody>\n",
       "</table>\n",
       "</div>"
      ],
      "text/plain": [
       "   i   Y0   Y1  T    Y   TE\n",
       "0  1  500  450  0  500  -50\n",
       "1  2  600  600  0  600    0\n",
       "2  3  800  600  1  600 -200\n",
       "3  4  700  750  1  750   50"
      ]
     },
     "execution_count": 5,
     "metadata": {},
     "output_type": "execute_result"
    }
   ],
   "source": [
    "pd.DataFrame(dict(\n",
    "    i= [1,2,3,4],\n",
    "    Y0=[500,600,800,700],\n",
    "    Y1=[450,600,600,750],\n",
    "    T= [0,0,1,1],\n",
    "    Y= [500,600,600,750],\n",
    "    TE=[-50,0,-200,50],\n",
    "))"
   ]
  },
  {
   "cell_type": "markdown",
   "metadata": {},
   "source": [
    "El $ATE$ (_Average Treatment Effect_) aquí sería el promedio de la última columna, es decir, del efecto del tratamiento:\n",
    "\n",
    "$ATE=(-50 + 0 - 200 + 50)/4 = -50$\n",
    "\n",
    "Esto significaría que las tabletas redujeron el rendimiento académico de los estudiantes, en promedio, 50 puntos. El $ATT$ (_Average Treatment on Treated_) aquí sería la media de la última columna cuando $T=1$:\n",
    "\n",
    "$ATT=(- 200 + 50)/2 = -75$\n",
    "\n",
    "Es decir, para las escuelas que fueron tratadas, las tabletas redujeron el rendimiento académico de los estudiantes, en promedio, en 75 puntos. Por supuesto, nunca podemos saber esto. En realidad, la tabla de arriba se vería así:"
   ]
  },
  {
   "cell_type": "code",
   "execution_count": 6,
   "metadata": {
    "ExecuteTime": {
     "end_time": "2023-03-15T11:20:11.488711Z",
     "start_time": "2023-03-15T11:20:11.480950Z"
    },
    "tags": [
     "hide-input"
    ]
   },
   "outputs": [
    {
     "data": {
      "text/html": [
       "<div>\n",
       "<style scoped>\n",
       "    .dataframe tbody tr th:only-of-type {\n",
       "        vertical-align: middle;\n",
       "    }\n",
       "\n",
       "    .dataframe tbody tr th {\n",
       "        vertical-align: top;\n",
       "    }\n",
       "\n",
       "    .dataframe thead th {\n",
       "        text-align: right;\n",
       "    }\n",
       "</style>\n",
       "<table border=\"1\" class=\"dataframe\">\n",
       "  <thead>\n",
       "    <tr style=\"text-align: right;\">\n",
       "      <th></th>\n",
       "      <th>i</th>\n",
       "      <th>Y0</th>\n",
       "      <th>Y1</th>\n",
       "      <th>T</th>\n",
       "      <th>Y</th>\n",
       "      <th>TE</th>\n",
       "    </tr>\n",
       "  </thead>\n",
       "  <tbody>\n",
       "    <tr>\n",
       "      <th>0</th>\n",
       "      <td>1</td>\n",
       "      <td>500.0</td>\n",
       "      <td>NaN</td>\n",
       "      <td>0</td>\n",
       "      <td>500</td>\n",
       "      <td>NaN</td>\n",
       "    </tr>\n",
       "    <tr>\n",
       "      <th>1</th>\n",
       "      <td>2</td>\n",
       "      <td>600.0</td>\n",
       "      <td>NaN</td>\n",
       "      <td>0</td>\n",
       "      <td>600</td>\n",
       "      <td>NaN</td>\n",
       "    </tr>\n",
       "    <tr>\n",
       "      <th>2</th>\n",
       "      <td>3</td>\n",
       "      <td>NaN</td>\n",
       "      <td>600.0</td>\n",
       "      <td>1</td>\n",
       "      <td>600</td>\n",
       "      <td>NaN</td>\n",
       "    </tr>\n",
       "    <tr>\n",
       "      <th>3</th>\n",
       "      <td>4</td>\n",
       "      <td>NaN</td>\n",
       "      <td>750.0</td>\n",
       "      <td>1</td>\n",
       "      <td>750</td>\n",
       "      <td>NaN</td>\n",
       "    </tr>\n",
       "  </tbody>\n",
       "</table>\n",
       "</div>"
      ],
      "text/plain": [
       "   i     Y0     Y1  T    Y  TE\n",
       "0  1  500.0    NaN  0  500 NaN\n",
       "1  2  600.0    NaN  0  600 NaN\n",
       "2  3    NaN  600.0  1  600 NaN\n",
       "3  4    NaN  750.0  1  750 NaN"
      ]
     },
     "execution_count": 6,
     "metadata": {},
     "output_type": "execute_result"
    }
   ],
   "source": [
    "pd.DataFrame(dict(\n",
    "    i= [1,2,3,4],\n",
    "    Y0=[500,600,np.nan,np.nan],\n",
    "    Y1=[np.nan,np.nan,600,750],\n",
    "    T= [0,0,1,1],\n",
    "    Y= [500,600,600,750],\n",
    "    TE=[np.nan,np.nan,np.nan,np.nan],\n",
    "))"
   ]
  },
  {
   "cell_type": "markdown",
   "metadata": {},
   "source": [
    "Seguramente esto no es ideal, se podría decir, pero ¿no puedo tomar la media de los tratados y compararla con la media de los no tratados? En otras palabras, ¿no puedo simplemente hacer $ATE=(600+750)/2  - (500 + 600)/2  = 125$? ¡No! Observa cuán diferentes son los resultados. Eso es porque acabas de cometer el pecado más grave de confundir asociación con causalidad. Para entender por qué, echemos un vistazo al principal enemigo de la inferencia causal.\n",
    "\n",
    "## El Sesgo\n",
    "\n",
    "El sesgo es lo que hace que la asociación sea diferente de la causalidad. Afortunadamente, se puede entender fácilmente con nuestra intuición. Volvamos al ejemplo del aula y las tabletas. Cuando te enfrentas a la afirmación de que las escuelas que dan tabletas a sus alumnos logran calificaciones más altas, podemos refutarla diciendo que esas escuelas probablemente lograrán calificaciones más altos de todos modos, incluso sin las tabletas. Eso es porque probablemente tienen más dinero que las otras escuelas; por lo tanto, pueden pagar mejores maestros, pagar mejores aulas, etc. En otras palabras, las escuelas tratadas (con tabletas electrónicas) no son comparables con las escuelas no tratadas. \n",
    "\n",
    "Para traducir esto a notación de resultados potenciales, decimos que la observación $ y_0 $ de los tratados es diferente a la $ y_0 $ de los no tratados. Recuerda que la $ y_0 $ de los tratados **es contrafactual**. No podemos observar el resultado, pero podemos razonar sobre ello. En este caso particular, incluso podemos aprovechar nuestra comprensión de cómo funciona el mundo para ir aún más lejos. Podemos decir que, probablemente, la $ y_0 $ de los tratados es más grande que la $ y_0 $ de las escuelas no tratadas. Esto se debe a que las escuelas que pueden darse el lujo de dar tabletas a sus hijos también pueden proporcionar otros factores que contribuyan a mejores calificaciones. Dejemos que esto se asiente por un momento. Se necesita un tiempo para acostumbrarse a hablar sobre posibles resultados. Lee nuevamente el párrafo y asegúrate de entenderlo.\n",
    "\n",
    "Con esto en mente, podemos mostrar con Matemáticas muy simples, ¿por qué la asociación no es causal? La asociación se mide por $ E [y | t = 1] - E [y | t = 0] $. En nuestro ejemplo, esta es la puntuación promedio de la prueba para las escuelas con tabletas menos la puntuación promedio de la prueba para aquellas sin ellas. Por otro lado, la causalidad se mide por $ E [Y_1 - Y_0]$.\n",
    "\n",
    "Para ver cómo se relacionan, tomemos la medición de la asociación y reemplacemos los resultados observados con los resultados potenciales. Para los tratados, el resultado observado es $ y_1 $. Para los no tratados, el resultado observado es $ y_0 $.\n",
    "\n",
    "$\n",
    "E[Y|T=1] - E[Y|T=0] = E[Y_1|T=1] - E[Y_0|T=0]\n",
    "$\n",
    "\n",
    "Ahora, vamos a suamr y restar $ E [y_0 | t = 1] $. Este es un resultado contrafactual. Cuenta lo que hubiera sido el resultado de los tratados, si no hubieran recibido el tratamiento.\n",
    "\n",
    "$\n",
    "E[Y|T=1] - E[Y|T=0] = E[Y_1|T=1] - E[Y_0|T=0] + E[Y_0|T=1] - E[Y_0|T=1]\n",
    "$\n",
    "\n",
    "Finalmente, reordenamos los términos, agregamos algunos termino. He aquí:\n",
    "\n",
    "$\n",
    "E[Y|T=1] - E[Y|T=0] = \\underbrace{E[Y_1 - Y_0|T=1]}_{ATT} + \\underbrace{\\{ E[Y_0|T=1] - E[Y_0|T=0] \\}}_{BIAS}\n",
    "$\n",
    "\n",
    "Esta simple pieza de Matemáticas abarca todos los problemas que encontraremos en preguntas causales. No puedo enfatizar lo importante que es entender todos los aspectos de lo anterior. Si alguna vez te obligan a tatuarte algo en su brazo, esta ecuación debe ser un buen candidato. Es algo a lo que hay que aferrarse y realmente entender lo que nos está diciendo, como un texto sagrado que se puede interpretar de 100 maneras diferentes. De hecho, echemos un vistazo más profundo. Vamos a investigar algunas de sus implicaciones. Primero, esta ecuación dice por qué la asociación no es causalidad. Como podemos ver, la asociación es igual al efecto del tratamiento sobre los tratados más un término de sesgo. **El sesgo está dado por la diferencia entre el grupo tratado y el control antes del tratamiento, es decir, en caso de que ninguno de los dos haya recibido el tratamiento**. Ahora podemos decir con precisión por qué sospechamos cuando alguien nos dice que las tabletas en el aula mejoran el rendimiento académico. Creemos que, en este ejemplo, $E[Y_ 0|T=0] < A[Y_ 0|T=1]$, es decir, las escuelas que pueden darse el lujo de dar tabletas a sus alumnos son mejores que las que no pueden **independientemente del tratamiento**.\n",
    "\n",
    "¿Por qué pasa esto? Hablaremos más sobre esto una vez que entremos a estudiar el término _confounding_, pero por ahora puedes pensar en el sesgo que surge porque muchas cosas que no podemos controlar están cambiando junto con el tratamiento. Como resultado, las escuelas tratadas y no tratadas no difieren solo en las tabletas. También difieren en el costo de la matrícula, la ubicación, los profesores...\n",
    "Para que podamos decir que las tabletas en el aula aumentan el rendimiento académico, necesitaríamos que las escuelas con y sin ellas sean, en promedio, similares entre sí."
   ]
  },
  {
   "cell_type": "code",
   "execution_count": 11,
   "metadata": {
    "ExecuteTime": {
     "end_time": "2023-03-15T11:20:11.602399Z",
     "start_time": "2023-03-15T11:20:11.490391Z"
    },
    "tags": [
     "hide-input"
    ]
   },
   "outputs": [
    {
     "data": {
      "image/png": "[encoded data removed]",
      "text/plain": [
       "<Figure size 720x432 with 1 Axes>"
      ]
     },
     "metadata": {
      "needs_background": "light"
     },
     "output_type": "display_data"
    }
   ],
   "source": [
    "plt.figure(figsize=(10,6))\n",
    "sns.scatterplot(x=\"Tuition\", y=\"enem_score\", hue=\"Tablet\", data=data, s=70).set_title('ENEM score by Tuition Cost')\n",
    "plt.show()"
   ]
  },
  {
   "cell_type": "markdown",
   "metadata": {},
   "source": [
    "Ahora que entendemos el problema, veamos la solución. También podemos decir qué sería necesario para que la asociación fuera igual a la causalidad. **Si $E[Y_0|T=0] = E[Y_0|T=1]$, entonces, ¡la asociación ES CAUSALIDAD!** Comprender esto no es solo recordar la ecuación. Hay un fuerte argumento intuitivo aquí. Decir que $E[Y_0|T=0] = E[Y_0|T=1]$ es decir que el grupo de tratamiento y control son comparables antes del tratamiento. O en el caso de que el tratado no haya recibido el tratamiendo, si pudiéramos observar su $Y_0$, entonces su resultado sería el mismo que el del no tratado. Matemáticamente, el término sesgo desaparecería:\n",
    "\n",
    "$\n",
    "E[Y|T=1] - E[Y|T=0] = E[Y_1 - Y_0|T=1] = ATT\n",
    "$\n",
    "\n",
    "Also, if the treated and the untreated only differ on the treatment itself, then, $E[Y_0|T=0] = E[Y_0|T=1]$ and we have that the causal impact on the treated is the same as in the untreated (because they are very similar).\n",
    "\n",
    "$\n",
    "\\begin{align}\n",
    "E[Y_1 - Y_0|T=1] &= E[Y_1|T=1] - E[Y_0|T=1] \\\\\n",
    "&= E[Y_1|T=1] - E[Y_0|T=0] \\\\\n",
    "&= E[Y|T=1] - E[Y|T=0]\n",
    "\\end{align}\n",
    "$\n",
    "\n",
    "In this case, the **difference in means BECOMES the causal effect**:\n",
    "\n",
    "$\n",
    "E[Y|T=1] - E[Y|T=0] = ATT\n",
    "$\n",
    "\n",
    "Additionally, if the treated and the untreated only differ on the treatment itself, we also have $E[Y_1|T=0] = E[Y_1|T=1]$, that is, we make sure that both treated and control groups respond similarly to the treatment. Now, besides being exchangeable prior to the treatment, treated and untreated are also exchangeable **after the treatment**. In this case, $E[Y_1 - Y_0|T=1]=E[Y_1 - Y_0|T=0]$ and\n",
    " \n",
    "$\n",
    "E[Y|T=1] - E[Y|T=0] = ATT = ATE\n",
    "$\n",
    "\n",
    "Una vez más, esto es tan importante que creo que vale la pena repasarlo de nuevo, ahora con imágenes bonitas. Si hacemos una comparación de promedio simples entre el grupo tratado y el no tratado, esto es lo que obtenemos (los puntos azules no recibieron el tratamiento, es decir, la tableta):\n",
    "\n",
    "![img](./data/img/intro/anatomy1.png)\n",
    "\n",
    "Observa cómo la diferencia en los resultados entre los dos grupos puede tener dos causas:\n",
    "\n",
    "1. El efecto del tratamiento. El aumento en la calificación de las pruebas que se produce al dar tabletas a los niños.\n",
    "2. Otras diferencias entre el tratamiento y no tratamiento que NO son el tratamiento en sí. En este caso, los tratados y los no tratados se diferencian en el sentido de que los tratados tienen un precio de matrícula mucho más elevado. Parte de la diferencia en los puntajes de las pruebas puede deberse al efecto del precio de la matrícula en una mejor educación. \n",
    "\n",
    "El verdadero efecto del tratamiento solo se puede obtener si tenemos poderes divinos para observar el resultado potencial, como en la figura (abajo) de la izquierda. El efecto del tratamiento individual es la diferencia entre el resultado de la unidad y otro resultado teórico que tendría la misma unidad en caso de recibir el tratamiento alternativo. Estos son los resultados contrafactual y se indican con un color claro.\n",
    "\n",
    "![img](./data/img/intro/anatomy2.png)\n",
    "\n",
    "En la gráfica (arriba) de la derecha, representamos cuál es el sesgo del que hemos hablado antes. Obtenemos el sesgo si establecemos que todos no reciban el tratamiento. En este caso, solo nos queda el resultado potencial de $T_0$. Luego, vemos cómo difieren los grupos tratados y no tratados. Si lo hacen, significa que hay algo diferente al tratamiento que hace que lo tratado y lo no tratado sean diferentes. Este algo es el sesgo y es lo que ensombrece el verdadero efecto del tratamiento.\n",
    "\n",
    "Ahora, contrasta esto con una situación hipotética donde no hay sesgo. Imagina que las tabletas se asignan aleatoriamente a las escuelas. En esta situación, las escuelas ricas y pobres tienen las mismas posibilidades de recibir el tratamiento. El tratamiento estaría bien distribuido en todo el espectro de matrícula.\n",
    "\n",
    "![img](./data/img/intro/anatomy3.png)\n",
    "\n",
    "En este caso, la diferencia en el resultado entre tratados y no tratados ES el efecto causal promedio. Esto sucede porque no hay otra fuente de diferencia entre el tratamiento y el no tratamiento que no sea el propio tratamiento. Todas las diferencias que vemos se le deben atribuir. Otra forma de decir esto es que no hay sesgo.\n",
    "\n",
    "![img](./data/img/intro/anatomy4.png)\n",
    "\n",
    "Si hacemos que todos los alumnos no reciban el tratamiento de tal manera que solo observemos los $Y_0$s, no encontraríamos ninguna diferencia entre los grupos tratados y no tratados.  \n",
    "\n",
    "Esta es la tarea enorme dentro de la Inferencia Causal. Tratamos de encontrar formas inteligentes de eliminar el sesgo, de hacer que los tratados y los no tratados sean comparables, de modo que todas las diferencias que veamos entre ellos sean solo el efecto promedio del tratamiento. En última instancia, la Inferencia Causal se trata de descubrir cómo funciona realmente el mundo, despojado de todos los engaños y malas interpretaciones. Y ahora que entendemos esto, podemos seguir adelante para dominar algunos de los métodos más poderosos para eliminar el sesgo, las armas de los _Valientes y Verdaderos_ para identificar el efecto causal. \n",
    "\n",
    "## Ideas Claves\n",
    "\n",
    "Hasta ahora, hemos visto que la asociación no es causalidad. Lo que es más importante, hemos visto precisamente por qué no lo es y cómo podemos hacer que la asociación sea causalidad. También hemos introducido la notación de resultados potenciales como una forma de entender el razonamiento causal. Con ella vimos la Estadística como dos realidades potenciales: una en la que se da el tratamiento y otra en la que no. Pero, lamentablemente, solo podemos medir una de ellas, y ahí es donde radica el problema fundamental de la Inferencia Causal.\n",
    "\n",
    "En el futuro, veremos algunas de las técnicas básicas para estimar el efecto causal, comenzando con el estándar dorado de un ensayo aleatorio. También revisaremos algunos conceptos estadísticos a medida que avanzamos. Terminaremos con una cita que se usa a menudo en las clases de Inferencia Causal, tomada de una serie de kung-fu:\n",
    "\n",
    "> 'What happens in a man's life is already written. A man must move through life as his destiny wills.' -Caine  \n",
    "'Yes, yet each man is free to live as he chooses. Though they seem opposite, both are true.' -Old Man\n",
    "\n",
    "## Referencias\n",
    "\n",
    "Me gusta pensar en este libro como un tributo a Joshua Angrist, Alberto Abadie y Christopher Walters por su increíble clase de Econometría. La mayoría de las ideas aquí están tomadas de sus clases en la Asociación Económica Americana. Verlos es lo que me mantiene cuerdo durante este difícil año de 2020.\n",
    "* [Cross-Section Econometrics](https://www.aeaweb.org/conference/cont-ed/2017-webcasts)\n",
    "* [Mastering Mostly Harmless Econometrics](https://www.aeaweb.org/conference/cont-ed/2020-webcasts)\n",
    "\n",
    "También me gustaría hacer referencia a los increíbles libros de Angrist. Me han demostrado que la Econometría, o 'Metria como la llaman, no solo es extremadamente útil sino también profundamente divertida.\n",
    "\n",
    "* [Mostly Harmless Econometrics](https://www.mostlyharmlesseconometrics.com/)\n",
    "* [Mastering 'Metrics](https://www.masteringmetrics.com/)\n",
    "\n",
    "Mi referencia final es el libro de Miguel Hernan y Jamie Robins. Ha sido mi compañero de confianza en las preguntas causales más espinosas que tuve que responder.\n",
    "\n",
    "* [Causal Inference Book](https://www.hsph.harvard.edu/miguel-hernan/causal-inference-book/)\n",
    "\n",
    "La analogía de la cerveza fue tomada de [Stock Series](https://jlcollinsnh.com/2012/04/15/stocks-part-1-theres-a-major-market-crash-coming-and-dr-lo-cant-save-you/), por JL Colins. Esta es una lectura obligada para todos aquellos que quieran aprender a invertir su dinero de manera productiva.\n",
    "\n",
    "![img](./data/img/poetry.png)\n",
    "\n",
    "## Contribute\n",
    "\n",
    "_Inferencia Causal para los Valientes y Verdaderos_ es un material de código abierto sobre Inferencia Causal, la Estadística de la Ciencia. Utiliza solo software libre, basado en Python. Su objetivo es ser accesible monetaria e intelectualmente.\n",
    "Si encuentras este libro valioso y quieres apoyarlo, por favor visita [Patreon](https://www.patreon.com/causal_inference_for_the_brave_and_true). Si no estás listo para contribuir financieramente, también puedes ayudar corrigiendo errores tipográficos, sugiriendo ediciones o dando tu opinión sobre pasajes que no entendiste. Sólo tienes que ir al repositorio del libro y [abrir un _issue_](https://github.com/matheusfacure/python-causality-handbook/issues). Finalmente, si te gustó este contenido, compártelo con otras personas a quienes les pueda resultar útil y dale una [estrella en GitHub](https://github.com/matheusfacure/python-causality-handbook/stargazers)."
   ]
  }
 ],
 "metadata": {
  "celltoolbar": "Tags",
  "kernelspec": {
   "display_name": "Python 3 (ipykernel)",
   "language": "python",
   "name": "python3"
  },
  "language_info": {
   "codemirror_mode": {
    "name": "ipython",
    "version": 3
   },
   "file_extension": ".py",
   "mimetype": "text/x-python",
   "name": "python",
   "nbconvert_exporter": "python",
   "pygments_lexer": "ipython3",
   "version": "3.7.12"
  },
  "toc": {
   "base_numbering": 1,
   "nav_menu": {},
   "number_sections": true,
   "sideBar": true,
   "skip_h1_title": false,
   "title_cell": "Table of Contents",
   "title_sidebar": "Contents",
   "toc_cell": false,
   "toc_position": {},
   "toc_section_display": true,
   "toc_window_display": false
  },
  "varInspector": {
   "cols": {
    "lenName": 16,
    "lenType": 16,
    "lenVar": 40
   },
   "kernels_config": {
    "python": {
     "delete_cmd_postfix": "",
     "delete_cmd_prefix": "del ",
     "library": "var_list.py",
     "varRefreshCmd": "print(var_dic_list())"
    },
    "r": {
     "delete_cmd_postfix": ") ",
     "delete_cmd_prefix": "rm(",
     "library": "var_list.r",
     "varRefreshCmd": "cat(var_dic_list()) "
    }
   },
   "types_to_exclude": [
    "module",
    "function",
    "builtin_function_or_method",
    "instance",
    "_Feature"
   ],
   "window_display": false
  }
 },
 "nbformat": 4,
 "nbformat_minor": 4
}
